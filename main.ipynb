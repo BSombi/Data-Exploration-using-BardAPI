{
 "cells": [
  {
   "cell_type": "code",
   "execution_count": 1,
   "metadata": {},
   "outputs": [],
   "source": [
    "from bardapi import Bard\n",
    "import os\n",
    "import pandas as pd"
   ]
  },
  {
   "cell_type": "code",
   "execution_count": 3,
   "metadata": {},
   "outputs": [],
   "source": [
    "os.environ['_BARD_API_KEY']=\"Your Key\""
   ]
  },
  {
   "cell_type": "code",
   "execution_count": 4,
   "metadata": {},
   "outputs": [],
   "source": [
    "my_data = pd.read_csv('HRData.csv')"
   ]
  },
  {
   "cell_type": "code",
   "execution_count": 5,
   "metadata": {},
   "outputs": [
    {
     "name": "stdout",
     "output_type": "stream",
     "text": [
      "Sure, here is a summary of the data exploration for the data you provided:\n",
      "\n",
      "* There are 20 rows of data.\n",
      "* The average file count is 2457.\n",
      "* The average number of shifts is 2.3.\n",
      "* The average headcount is 3.2.\n",
      "* The minimum file count is 2056.\n",
      "* The maximum file count is 3492.\n",
      "* The minimum number of shifts is 1.\n",
      "* The maximum number of shifts is 5.\n",
      "* The minimum headcount is 2.\n",
      "* The maximum headcount is 5.\n",
      "\n",
      "Here are some additional insights that can be gained from the data:\n",
      "\n",
      "* The number of files and number of shifts are positively correlated, meaning that as the number of files increases, the number of shifts also tends to increase.\n",
      "* The headcount is not as strongly correlated with the number of files or number of shifts. This suggests that the number of employees required to process a certain number of files or shifts may vary depending on other factors, such as the complexity of the files or the type of shifts.\n",
      "* The data suggests that there is a wide range of variation in the number of files, number of shifts, and headcount across different organizations. This suggests that there is no one-size-fits-all approach to staffing and resource allocation.\n",
      "\n",
      "Overall, the data exploration provides some useful insights into the data. However, it is important to note that the data is limited and may not be representative of all organizations. More data would be needed to make more definitive conclusions.\n"
     ]
    }
   ],
   "source": [
    "input_text = \"can you do data exploration\"\n",
    "answer = Bard().get_answer(f'{input_text} this data {my_data}')['content']\n",
    "print(answer)"
   ]
  }
 ],
 "metadata": {
  "kernelspec": {
   "display_name": "bard_app",
   "language": "python",
   "name": "python3"
  },
  "language_info": {
   "codemirror_mode": {
    "name": "ipython",
    "version": 3
   },
   "file_extension": ".py",
   "mimetype": "text/x-python",
   "name": "python",
   "nbconvert_exporter": "python",
   "pygments_lexer": "ipython3",
   "version": "3.10.11"
  },
  "orig_nbformat": 4
 },
 "nbformat": 4,
 "nbformat_minor": 2
}
